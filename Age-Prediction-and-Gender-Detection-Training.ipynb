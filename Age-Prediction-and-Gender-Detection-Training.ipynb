{
 "cells": [
  {
   "cell_type": "code",
   "execution_count": 2,
   "id": "76eb0b97",
   "metadata": {},
   "outputs": [],
   "source": [
    "import cv2\n",
    "import matplotlib.pyplot as plt\n",
    "import numpy as np"
   ]
  },
  {
   "cell_type": "markdown",
   "id": "c0ca9dcb",
   "metadata": {},
   "source": [
    "# Read Dataset of Age and Gender"
   ]
  },
  {
   "cell_type": "code",
   "execution_count": null,
   "id": "b2ee16aa",
   "metadata": {},
   "outputs": [],
   "source": [
    "img = cv2.imread(input_img)"
   ]
  },
  {
   "cell_type": "code",
   "execution_count": null,
   "id": "4553b24b",
   "metadata": {},
   "outputs": [],
   "source": [
    "plt.imshow(img[:,:,::-1])"
   ]
  },
  {
   "cell_type": "code",
   "execution_count": null,
   "id": "5c5623d2",
   "metadata": {},
   "outputs": [],
   "source": [
    "detector_path = \"C:/Users/saijalgupta/Anaconda3/Lib/site-packages/cv2/data/haarcascade_frontalface_default.xml\"\n",
    "detector = cv2.CascadeClassifier(detector_path)"
   ]
  },
  {
   "cell_type": "code",
   "execution_count": null,
   "id": "40a2d17e",
   "metadata": {},
   "outputs": [],
   "source": [
    "faces = detector.detectMultiScale(img,1.2,5)\n",
    "faces"
   ]
  },
  {
   "cell_type": "code",
   "execution_count": null,
   "id": "a4b325c6",
   "metadata": {},
   "outputs": [],
   "source": [
    "x, y, w, h = faces[0]"
   ]
  },
  {
   "cell_type": "code",
   "execution_count": null,
   "id": "17961c90",
   "metadata": {},
   "outputs": [],
   "source": [
    "detected_face = img[int(y):int(y+h),int(x):int(x+w)]"
   ]
  },
  {
   "cell_type": "code",
   "execution_count": null,
   "id": "0c32a96a",
   "metadata": {},
   "outputs": [],
   "source": [
    "detected_face = cv2.resize(detected_face,(224,224))"
   ]
  },
  {
   "cell_type": "code",
   "execution_count": null,
   "id": "2a59b6d7",
   "metadata": {},
   "outputs": [],
   "source": [
    "detected_face.shape"
   ]
  },
  {
   "cell_type": "code",
   "execution_count": null,
   "id": "3c618b3a",
   "metadata": {},
   "outputs": [],
   "source": [
    "plt.imshow(detected_face)"
   ]
  },
  {
   "cell_type": "code",
   "execution_count": null,
   "id": "5d1502cf",
   "metadata": {},
   "outputs": [],
   "source": [
    "detected_face_blob =cv2.dnn.blobFromImage(detected_face)"
   ]
  },
  {
   "cell_type": "code",
   "execution_count": null,
   "id": "363035a6",
   "metadata": {},
   "outputs": [],
   "source": [
    "detected_face_blob.shape"
   ]
  },
  {
   "cell_type": "code",
   "execution_count": null,
   "id": "1e313bda",
   "metadata": {},
   "outputs": [],
   "source": [
    "age_model.setInput(detected_face_blob)\n",
    "age_result = age_model.forward()\n",
    "\n",
    "gender_model.setInput(detected_face_blob)\n",
    "gender_result = gender_model.forward()"
   ]
  },
  {
   "cell_type": "code",
   "execution_count": null,
   "id": "dc955963",
   "metadata": {},
   "outputs": [],
   "source": [
    "gender_result"
   ]
  },
  {
   "cell_type": "code",
   "execution_count": null,
   "id": "6d9ff5f8",
   "metadata": {},
   "outputs": [],
   "source": [
    "np.argmax(gender_result[0])"
   ]
  },
  {
   "cell_type": "markdown",
   "id": "a90398eb",
   "metadata": {},
   "source": [
    "# for women the index is 0"
   ]
  },
  {
   "cell_type": "code",
   "execution_count": null,
   "id": "cc214b42",
   "metadata": {},
   "outputs": [],
   "source": [
    "if(np.argmax(gender_result[0]) == 0):\n",
    "    a = \"women\"\n",
    "else:\n",
    "    a = \"men\""
   ]
  },
  {
   "cell_type": "code",
   "execution_count": null,
   "id": "84dd6a3d",
   "metadata": {},
   "outputs": [],
   "source": [
    "age_result"
   ]
  },
  {
   "cell_type": "code",
   "execution_count": null,
   "id": "c772dfcf",
   "metadata": {},
   "outputs": [],
   "source": [
    "len(age_result[0])"
   ]
  },
  {
   "cell_type": "code",
   "execution_count": null,
   "id": "6cd208cb",
   "metadata": {},
   "outputs": [],
   "source": [
    "indexes = np.array([i for i in range (0,101)])"
   ]
  },
  {
   "cell_type": "markdown",
   "id": "a7e2df59",
   "metadata": {},
   "source": [
    "# we deal with age value one by one by call them indexes"
   ]
  },
  {
   "cell_type": "code",
   "execution_count": null,
   "id": "b793c705",
   "metadata": {},
   "outputs": [],
   "source": [
    "apparent_age = round(np.sum(age_result[0] * indexes))"
   ]
  },
  {
   "cell_type": "code",
   "execution_count": null,
   "id": "e18d6d71",
   "metadata": {},
   "outputs": [],
   "source": [
    "b = apparent_age"
   ]
  },
  {
   "cell_type": "code",
   "execution_count": null,
   "id": "bf1d3d5f",
   "metadata": {},
   "outputs": [],
   "source": [
    "print(\"                     (\",a,\",\",b,\")\")\n",
    "print(\"given input image of -->\",a,\"who is-->\",b,'year_old')"
   ]
  },
  {
   "cell_type": "code",
   "execution_count": null,
   "id": "ceb18e69",
   "metadata": {},
   "outputs": [],
   "source": []
  },
  {
   "cell_type": "code",
   "execution_count": null,
   "id": "0dd206c7",
   "metadata": {},
   "outputs": [],
   "source": []
  }
 ],
 "metadata": {
  "kernelspec": {
   "display_name": "Python 3 (ipykernel)",
   "language": "python",
   "name": "python3"
  },
  "language_info": {
   "codemirror_mode": {
    "name": "ipython",
    "version": 3
   },
   "file_extension": ".py",
   "mimetype": "text/x-python",
   "name": "python",
   "nbconvert_exporter": "python",
   "pygments_lexer": "ipython3",
   "version": "3.8.1"
  }
 },
 "nbformat": 4,
 "nbformat_minor": 5
}
